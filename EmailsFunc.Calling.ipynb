{
 "cells": [
  {
   "cell_type": "code",
   "execution_count": 1,
   "metadata": {},
   "outputs": [
    {
     "name": "stdout",
     "output_type": "stream",
     "text": [
      "All packages imported successfully!\n",
      "✅ Credentials file found!\n",
      "✅ API Key Loaded Successfully!\n"
     ]
    }
   ],
   "source": [
    "from Emailfunctions import get_recent_emails, summarize_recent_emails\n"
   ]
  },
  {
   "cell_type": "code",
   "execution_count": 2,
   "metadata": {},
   "outputs": [
    {
     "name": "stdout",
     "output_type": "stream",
     "text": [
      "📧 Email 1\n",
      "From: \"Sayantani Saha (via Google Drive)\" <drive-shares-dm-noreply@google.com>\n",
      "Subject: Item shared with you: ‘gmail_.ipynb’\n",
      "\n",
      "📧 Email 2\n",
      "From: Sayantani Saha <sayantani.vivo@gmail.com>\n",
      "Subject: \n",
      "\n",
      "📧 Email 3\n",
      "From: OpenAI <noreply@tm.openai.com>\n",
      "Subject: Change password for OpenAI\n",
      "\n"
     ]
    }
   ],
   "source": [
    "get_recent_emails()"
   ]
  },
  {
   "cell_type": "code",
   "execution_count": 3,
   "metadata": {},
   "outputs": [
    {
     "name": "stdout",
     "output_type": "stream",
     "text": [
      "📧 Email 1\n",
      "From: \"Sayantani Saha (via Google Drive)\" <drive-shares-dm-noreply@google.com>\n",
      "Subject: Item shared with you: ‘gmail_.ipynb’\n",
      "\n",
      "📧 Email 2\n",
      "From: Sayantani Saha <sayantani.vivo@gmail.com>\n",
      "Subject: \n",
      "\n",
      "📧 Email 3\n",
      "From: OpenAI <noreply@tm.openai.com>\n",
      "Subject: Change password for OpenAI\n",
      "\n"
     ]
    },
    {
     "data": {
      "text/plain": [
       "'No recent emails to summarize.'"
      ]
     },
     "execution_count": 3,
     "metadata": {},
     "output_type": "execute_result"
    }
   ],
   "source": [
    "summarize_recent_emails()"
   ]
  }
 ],
 "metadata": {
  "kernelspec": {
   "display_name": "Python 3",
   "language": "python",
   "name": "python3"
  },
  "language_info": {
   "codemirror_mode": {
    "name": "ipython",
    "version": 3
   },
   "file_extension": ".py",
   "mimetype": "text/x-python",
   "name": "python",
   "nbconvert_exporter": "python",
   "pygments_lexer": "ipython3",
   "version": "3.13.2"
  }
 },
 "nbformat": 4,
 "nbformat_minor": 2
}
